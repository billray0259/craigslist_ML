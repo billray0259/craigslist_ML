{
 "cells": [
  {
   "cell_type": "code",
   "execution_count": 1,
   "metadata": {},
   "outputs": [],
   "source": [
    "from craigslist import CraigslistForSale\n",
    "import json\n",
    "import time\n",
    "from datetime import datetime\n",
    "import os\n",
    "from tqdm.notebook import tqdm\n",
    "\n",
    "from lib.listing import Listing"
   ]
  },
  {
   "cell_type": "code",
   "execution_count": 2,
   "metadata": {},
   "outputs": [],
   "source": [
    "data_dir = 'data'\n",
    "\n",
    "delay = 3\n",
    "\n",
    "search_config = {\n",
    "    \"limit\": 10_000,\n",
    "    \"category\": \"sss\",\n",
    "    \"search_distance\": 30,\n",
    "    \"max_price\": 800\n",
    "}"
   ]
  },
  {
   "cell_type": "code",
   "execution_count": 3,
   "metadata": {},
   "outputs": [
    {
     "name": "stdout",
     "output_type": "stream",
     "text": [
      "Approximate number of results: 3000\n"
     ]
    },
    {
     "data": {
      "application/vnd.jupyter.widget-view+json": {
       "model_id": "eae02712cdbe47c98afda0432e4b64a6",
       "version_major": 2,
       "version_minor": 0
      },
      "text/plain": [
       "  0%|          | 0/10000 [00:00<?, ?it/s]"
      ]
     },
     "metadata": {},
     "output_type": "display_data"
    }
   ],
   "source": [
    "filters = {\n",
    "    \"has_image\": True,\n",
    "    \"search_distance\": search_config[\"search_distance\"],\n",
    "    \"max_price\": search_config[\"max_price\"],\n",
    "    \"min_price\": 1\n",
    "}\n",
    "\n",
    "save_dir = os.path.join(data_dir, datetime.now().strftime('%Y%m%d%H%M%S'))\n",
    "image_dir = os.path.join(save_dir, 'images')\n",
    "os.makedirs(save_dir)\n",
    "os.makedirs(image_dir)\n",
    "\n",
    "# make a file name based on the limit and current time\n",
    "search = CraigslistForSale(site='westernmass', category=search_config[\"category\"], filters=filters)\n",
    "\n",
    "print(\"Approximate number of results:\", search.get_results_approx_count())\n",
    "\n",
    "results = {}\n",
    "for post in tqdm(search.get_results(sort_by='newest', limit=search_config[\"limit\"]), total=search_config[\"limit\"]):\n",
    "    start_time = time.time()\n",
    "\n",
    "    listing = Listing(post)\n",
    "    listing.fetch_details()\n",
    "    listing.save_image(image_dir)\n",
    "\n",
    "    results[listing.id] = listing.to_dict()\n",
    "\n",
    "    ellapsed_time = time.time() - start_time\n",
    "    time.sleep(max(0, delay - ellapsed_time))\n",
    "\n",
    "\n",
    "# save the results to a file\n",
    "with open(os.path.join(save_dir, \"detailed.json\"), 'w') as outfile:\n",
    "    json.dump(results, outfile)\n",
    "\n",
    "# save the search config to a file\n",
    "with open(os.path.join(save_dir, \"config.json\"), 'w') as outfile:\n",
    "    json.dump(search_config, outfile)"
   ]
  }
 ],
 "metadata": {
  "interpreter": {
   "hash": "0987580c3fa7eeaf5da25a446544d4cf8032cca504661e22c89831bfd1beddb0"
  },
  "kernelspec": {
   "display_name": "Python 3.8.10 ('env': venv)",
   "language": "python",
   "name": "python3"
  },
  "language_info": {
   "codemirror_mode": {
    "name": "ipython",
    "version": 3
   },
   "file_extension": ".py",
   "mimetype": "text/x-python",
   "name": "python",
   "nbconvert_exporter": "python",
   "pygments_lexer": "ipython3",
   "version": "3.9.10"
  },
  "orig_nbformat": 4
 },
 "nbformat": 4,
 "nbformat_minor": 2
}
