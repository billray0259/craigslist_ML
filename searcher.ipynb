{
 "cells": [
  {
   "cell_type": "code",
   "execution_count": 4,
   "metadata": {},
   "outputs": [],
   "source": [
    "from craigslist import CraigslistForSale\n",
    "import json\n",
    "import time\n",
    "from datetime import datetime\n",
    "import os\n",
    "from lib import get_search_filename"
   ]
  },
  {
   "cell_type": "code",
   "execution_count": 5,
   "metadata": {},
   "outputs": [
    {
     "name": "stdout",
     "output_type": "stream",
     "text": [
      "~number of results 1563\n"
     ]
    }
   ],
   "source": [
    "data_dir = './searches/'\n",
    "\n",
    "limit = 100\n",
    "filters = {\n",
    "    \"has_image\": True,\n",
    "}\n",
    "\n",
    "# make a file name based on the limit and current time\n",
    "filename = get_search_filename(\"limited\", limit)\n",
    "search = CraigslistForSale(site='westernmass', category='fua', filters=filters)\n",
    "print(\"~number of results\", search.get_results_approx_count())\n",
    "results = {}\n",
    "for post in search.get_results(sort_by='newest', limit=limit):\n",
    "    results[post[\"id\"]] = post\n",
    "# save the results to a file\n",
    "with open(os.path.join(data_dir, filename), 'w') as outfile:\n",
    "    json.dump(results, outfile)"
   ]
  }
 ],
 "metadata": {
  "interpreter": {
   "hash": "0987580c3fa7eeaf5da25a446544d4cf8032cca504661e22c89831bfd1beddb0"
  },
  "kernelspec": {
   "display_name": "Python 3.8.10 ('env': venv)",
   "language": "python",
   "name": "python3"
  },
  "language_info": {
   "codemirror_mode": {
    "name": "ipython",
    "version": 3
   },
   "file_extension": ".py",
   "mimetype": "text/x-python",
   "name": "python",
   "nbconvert_exporter": "python",
   "pygments_lexer": "ipython3",
   "version": "3.8.10"
  },
  "orig_nbformat": 4
 },
 "nbformat": 4,
 "nbformat_minor": 2
}
