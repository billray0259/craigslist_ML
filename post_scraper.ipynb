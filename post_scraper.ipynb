{
 "cells": [
  {
   "cell_type": "code",
   "execution_count": 4,
   "metadata": {},
   "outputs": [],
   "source": [
    "from bs4 import BeautifulSoup\n",
    "import json\n",
    "import requests\n",
    "import os\n",
    "from tqdm import tqdm\n",
    "from lib import get_search_filename\n",
    "\n",
    "searches_dir = './searches/'\n",
    "images_dir = './images/'"
   ]
  },
  {
   "cell_type": "code",
   "execution_count": 5,
   "metadata": {},
   "outputs": [],
   "source": [
    "\n",
    "def get_soup(post):\n",
    "    url = post['url']\n",
    "    soup = BeautifulSoup(requests.get(url).text, 'xml')\n",
    "    return soup\n",
    "\n",
    "def get_thumbnail_urls(soup):\n",
    "    # find the div with id=\"thumbs\"\n",
    "    thumbs = soup.find('div', id='thumbs')\n",
    "    # find all the a tags with class=\"thumb\"\n",
    "    images = thumbs.find_all('a', class_='thumb')\n",
    "\n",
    "    image_urls = list(map(lambda img: img[\"href\"], images))\n",
    "    return image_urls\n",
    "\n",
    "\n",
    "def save_thumbnails(post):\n",
    "    post_id = post['id']\n",
    "    image_urls = get_thumbnail_urls(post)\n",
    "\n",
    "    wrote_images = False\n",
    "    # save the images to {images_dir}/{post_id}/{i}.jpg\n",
    "    for i, url in enumerate(image_urls):\n",
    "        filename = f\"{i}.jpg\"\n",
    "        dir_name = os.path.join(images_dir, post_id)\n",
    "        if not os.path.exists(dir_name):\n",
    "            os.makedirs(dir_name)\n",
    "            file_path = os.path.join(dir_name, filename)\n",
    "            with open(file_path, 'wb') as f:\n",
    "                f.write(requests.get(url).content)\n",
    "            wrote_images = True\n",
    "    return wrote_images\n",
    "\n",
    "def get_main_image_url(soup):\n",
    "    # find the div with class=\"swipe\"\n",
    "    swipe = soup.find('div', class_='swipe')\n",
    "    # find the img tag\n",
    "    image = swipe.find('img')\n",
    "    return image['src']\n",
    "\n",
    "def save_main_image(image_url):\n",
    "    # save the image to {images_dir}/{post_id}.jpg\n",
    "    filename = f\"{post_id}.jpg\"\n",
    "    file_path = os.path.join(images_dir, filename)\n",
    "    wrote_image = False\n",
    "    if not os.path.exists(file_path):\n",
    "        with open(file_path, 'wb') as f:\n",
    "            f.write(requests.get(image_url).content)\n",
    "        wrote_image = True\n",
    "    \n",
    "    return wrote_image\n",
    "\n",
    "def get_description(soup):\n",
    "    # get section with id \"postingbody\"\n",
    "    postingbody = soup.find('section', id='postingbody')\n",
    "    # get the text\n",
    "    description = postingbody.text\n",
    "    return description"
   ]
  },
  {
   "cell_type": "code",
   "execution_count": 7,
   "metadata": {},
   "outputs": [
    {
     "name": "stderr",
     "output_type": "stream",
     "text": [
      "100%|██████████| 100/100 [00:28<00:00,  3.55it/s]\n"
     ]
    }
   ],
   "source": [
    "search_file = \"limited_100_2022-03-21_17:16:32.json\"\n",
    "with open(os.path.join(searches_dir, search_file), 'r') as f:\n",
    "    search = json.load(f)\n",
    "\n",
    "\n",
    "for post_id, post in tqdm(search.items()):\n",
    "    soup = get_soup(post)\n",
    "    image_url = get_main_image_url(soup)\n",
    "    description = get_description(soup)\n",
    "    post[\"image_url\"] = image_url\n",
    "    post[\"description\"] = description\n",
    "    save_main_image(image_url)\n",
    "\n",
    "filename = get_search_filename(\"full\", len(search))\n",
    "with open(os.path.join(searches_dir, filename), 'w') as f:\n",
    "    json.dump(search, f)\n",
    "    "
   ]
  }
 ],
 "metadata": {
  "interpreter": {
   "hash": "0987580c3fa7eeaf5da25a446544d4cf8032cca504661e22c89831bfd1beddb0"
  },
  "kernelspec": {
   "display_name": "Python 3.8.10 ('env': venv)",
   "language": "python",
   "name": "python3"
  },
  "language_info": {
   "codemirror_mode": {
    "name": "ipython",
    "version": 3
   },
   "file_extension": ".py",
   "mimetype": "text/x-python",
   "name": "python",
   "nbconvert_exporter": "python",
   "pygments_lexer": "ipython3",
   "version": "3.8.10"
  },
  "orig_nbformat": 4
 },
 "nbformat": 4,
 "nbformat_minor": 2
}
