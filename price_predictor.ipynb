{
 "cells": [
  {
   "cell_type": "code",
   "execution_count": null,
   "metadata": {},
   "outputs": [],
   "source": [
    "from PIL import Image\n",
    "import requests\n",
    "import os\n",
    "import json\n",
    "import matplotlib.pyplot as plt\n",
    "\n",
    "from lib import get_ids, get_images, get_titles\n",
    "\n",
    "from transformers import CLIPProcessor, CLIPModel\n",
    "\n",
    "from torch import nn\n",
    "import torch\n",
    "import torch.functional as F"
   ]
  },
  {
   "cell_type": "code",
   "execution_count": null,
   "metadata": {},
   "outputs": [],
   "source": [
    "search_file = \"searches/full_100_2022-03-21_17:18:01.json\"\n",
    "image_dir = \"images/\""
   ]
  },
  {
   "cell_type": "code",
   "execution_count": null,
   "metadata": {},
   "outputs": [],
   "source": [
    "clip = CLIPModel.from_pretrained(\"openai/clip-vit-base-patch32\")\n",
    "processor = CLIPProcessor.from_pretrained(\"openai/clip-vit-base-patch32\")\n",
    "\n",
    "def get_embeds(text, images):\n",
    "    inputs = processor(text=text, images=images, return_tensors=\"pt\", padding=True)\n",
    "    outputs = clip(**inputs)\n",
    "    text_embeds = outputs.text_embeds\n",
    "    image_embeds = outputs.image_embeds\n",
    "    # concat\n",
    "    embeds = torch.cat((text_embeds, image_embeds), dim=1)\n",
    "    return embeds"
   ]
  },
  {
   "cell_type": "code",
   "execution_count": null,
   "metadata": {},
   "outputs": [],
   "source": [
    "class PriceModel(nn.Module):\n",
    "\n",
    "    def __init__(self):\n",
    "        super(PriceModel).__init__()\n",
    "        self.fc1 = nn.Linear(1024, 512)\n",
    "        self.fc2 = nn.Linear(512, 256)\n",
    "        self.fc3 = nn.Linear(256, 1)\n",
    "\n",
    "    def forward(self, embeds):            \n",
    "        # pass through layers\n",
    "        z = F.relu(self.fc1(embeds))\n",
    "        z = F.relu(self.fc2(z))\n",
    "        z = self.fc3(z)\n",
    "        return z"
   ]
  },
  {
   "cell_type": "code",
   "execution_count": null,
   "metadata": {},
   "outputs": [],
   "source": [
    "# read search_file\n",
    "with open(search_file, \"r\") as f:\n",
    "    search = json.load(f)\n",
    "\n",
    "ids = get_ids(search)\n",
    "titles = get_titles(search)\n",
    "images = get_images(search)"
   ]
  }
 ],
 "metadata": {
  "interpreter": {
   "hash": "0987580c3fa7eeaf5da25a446544d4cf8032cca504661e22c89831bfd1beddb0"
  },
  "kernelspec": {
   "display_name": "Python 3.8.10 ('env': venv)",
   "language": "python",
   "name": "python3"
  },
  "language_info": {
   "name": "python",
   "version": "3.8.10"
  },
  "orig_nbformat": 4
 },
 "nbformat": 4,
 "nbformat_minor": 2
}
