{
 "cells": [
  {
   "cell_type": "code",
   "execution_count": 9,
   "metadata": {},
   "outputs": [],
   "source": [
    "from craigslist import CraigslistForSale\n",
    "\n",
    "\n",
    "# You can get an approximate amount of results with the following call:\n",
    "\n",
    "\n",
    "# 992\n",
    "\n",
    "\n",
    "# {\n",
    "#     'id': u'4851150747',\n",
    "#     'name': u'Near SFSU, UCSF and NEWLY FURNISHED - CLEAN, CONVENIENT and CLEAN!',\n",
    "#     'url': u'http://sfbay.craigslist.org/sfc/roo/4851150747.html',\n",
    "#     'datetime': u'2015-01-27 23:44',\n",
    "#     'price': u'$1100',\n",
    "#     'where': u'inner sunset / UCSF',\n",
    "#     'has_image': False,\n",
    "#     'has_map': True,\n",
    "#     'geotag': (37.738473, -122.494721)\n",
    "# }"
   ]
  },
  {
   "cell_type": "code",
   "execution_count": 12,
   "metadata": {},
   "outputs": [
    {
     "name": "stdout",
     "output_type": "stream",
     "text": [
      "1626\n"
     ]
    }
   ],
   "source": [
    "cl_h = CraigslistForSale(site='westernmass', category='fua')\n",
    "print(cl_h.get_results_approx_count())"
   ]
  },
  {
   "cell_type": "code",
   "execution_count": 8,
   "metadata": {},
   "outputs": [
    {
     "name": "stdout",
     "output_type": "stream",
     "text": [
      "{'id': '7458829182', 'repost_of': None, 'name': 'Cat tower', 'url': 'https://westernmass.craigslist.org/fuo/d/springfield-cat-tower/7458829182.html', 'datetime': '2022-03-20 23:37', 'last_updated': '2022-03-20 23:37', 'price': '$60', 'where': 'Springfield', 'has_image': True, 'geotag': (42.100777, -72.561951), 'deleted': False}\n"
     ]
    }
   ],
   "source": [
    "for result in cl_h.get_results(sort_by='newest', geotagged=True):\n",
    "    print(result)\n",
    "    break"
   ]
  },
  {
   "cell_type": "code",
   "execution_count": null,
   "metadata": {},
   "outputs": [],
   "source": []
  }
 ],
 "metadata": {
  "interpreter": {
   "hash": "0987580c3fa7eeaf5da25a446544d4cf8032cca504661e22c89831bfd1beddb0"
  },
  "kernelspec": {
   "display_name": "Python 3.8.10 ('env': venv)",
   "language": "python",
   "name": "python3"
  },
  "language_info": {
   "codemirror_mode": {
    "name": "ipython",
    "version": 3
   },
   "file_extension": ".py",
   "mimetype": "text/x-python",
   "name": "python",
   "nbconvert_exporter": "python",
   "pygments_lexer": "ipython3",
   "version": "3.8.10"
  },
  "orig_nbformat": 4
 },
 "nbformat": 4,
 "nbformat_minor": 2
}
