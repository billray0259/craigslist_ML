{
 "cells": [
  {
   "cell_type": "code",
   "execution_count": 1,
   "metadata": {},
   "outputs": [],
   "source": [
    "import os\n",
    "import numpy as np\n",
    "import matplotlib.pyplot as plt\n",
    "\n",
    "from tqdm.notebook import tqdm\n",
    "\n",
    "from torch import nn\n",
    "import torch\n",
    "import torch.nn.functional as F\n",
    "from torch.utils.data import Dataset, DataLoader\n",
    "\n",
    "from transformers import CLIPModel"
   ]
  },
  {
   "cell_type": "code",
   "execution_count": 2,
   "metadata": {},
   "outputs": [],
   "source": [
    "data_dir = \"data\"\n",
    "dataset_id = \"20220329222400\"\n",
    "\n",
    "dataset_dir = os.path.join(data_dir, dataset_id)\n",
    "\n",
    "assert os.path.exists(dataset_dir), \"Dataset directory does not exist\"\n",
    "\n",
    "device = torch.device(\"cuda\" if torch.cuda.is_available() else \"cpu\")"
   ]
  },
  {
   "cell_type": "code",
   "execution_count": 3,
   "metadata": {},
   "outputs": [],
   "source": [
    "# read embeds, prices, and ids\n",
    "input_ids = np.load(os.path.join(dataset_dir, \"input_ids.npy\"))\n",
    "attention_mask = np.load(os.path.join(dataset_dir, \"attention_mask.npy\"))\n",
    "pixel_values = np.load(os.path.join(dataset_dir, \"pixel_values.npy\"))\n",
    "\n",
    "\n",
    "prices = np.load(os.path.join(dataset_dir, \"prices.npy\"))\n",
    "\n",
    "idx = np.where(prices < 800)[0]\n",
    "\n",
    "input_ids = input_ids[idx]\n",
    "attention_mask = attention_mask[idx]\n",
    "pixel_values = pixel_values[idx]\n",
    "prices = prices[idx]\n",
    "\n",
    "# normalize prices\n",
    "mean_price = np.mean(prices)\n",
    "std_price = np.std(prices)\n",
    "prices = (prices - mean_price) / std_price\n",
    "\n",
    "prices = torch.tensor(prices, dtype=torch.float32).unsqueeze(dim=1)\n",
    "\n",
    "ids = np.load(os.path.join(dataset_dir, \"ids.npy\"))\n"
   ]
  },
  {
   "cell_type": "code",
   "execution_count": 4,
   "metadata": {},
   "outputs": [
    {
     "name": "stdout",
     "output_type": "stream",
     "text": [
      "(934, 77)\n",
      "torch.Size([934, 1])\n"
     ]
    },
    {
     "data": {
      "image/png": "[encoded data removed]",
      "text/plain": [
       "<Figure size 432x288 with 1 Axes>"
      ]
     },
     "metadata": {
      "needs_background": "light"
     },
     "output_type": "display_data"
    }
   ],
   "source": [
    "print(input_ids.shape)\n",
    "print(prices.shape)\n",
    "\n",
    "# histogram of prices\n",
    "plt.hist(prices.numpy(), bins=100)\n",
    "plt.show()"
   ]
  },
  {
   "cell_type": "code",
   "execution_count": 5,
   "metadata": {},
   "outputs": [],
   "source": [
    "class PriceModelV2(nn.Module):\n",
    "\n",
    "    def __init__(self):\n",
    "        super(PriceModelV2, self).__init__()\n",
    "        self.clip = CLIPModel.from_pretrained(\"openai/clip-vit-base-patch32\")\n",
    "        self.linear = nn.Linear(1024, 1)\n",
    "\n",
    "    def forward(self, inputs):\n",
    "        clip_output = self.clip(**inputs)\n",
    "        text_embeds = clip_output.text_embeds\n",
    "        image_embeds = clip_output.image_embeds\n",
    "        # concatenate text and image embeddings\n",
    "        x = torch.cat([text_embeds, image_embeds], dim=1)\n",
    "        x = self.linear(x)\n",
    "        return x\n",
    "\n",
    "class ClipInputDataset(Dataset):\n",
    "    def __init__(self, input_ids, attention_mask, pixel_values, prices, device):\n",
    "        # put input_ids on device\n",
    "        self.input_ids = torch.tensor(input_ids, dtype=torch.int).to(device)\n",
    "        self.attention_mask = torch.tensor(attention_mask, dtype=torch.int).to(device)\n",
    "        self.pixel_values = torch.tensor(pixel_values, dtype=torch.float32).to(device)\n",
    "        self.prices = torch.tensor(prices, dtype=torch.float32).to(device)\n",
    "\n",
    "    def __len__(self):\n",
    "        return len(self.prices)\n",
    "\n",
    "    def __getitem__(self, idx):\n",
    "        return {\n",
    "            \"input_ids\": self.input_ids[idx],\n",
    "            \"attention_mask\": self.attention_mask[idx],\n",
    "            \"pixel_values\": self.pixel_values[idx],\n",
    "        }, self.prices[idx]"
   ]
  },
  {
   "cell_type": "code",
   "execution_count": 6,
   "metadata": {},
   "outputs": [
    {
     "name": "stderr",
     "output_type": "stream",
     "text": [
      "/tmp/ipykernel_41073/4188197176.py:23: UserWarning: To copy construct from a tensor, it is recommended to use sourceTensor.clone().detach() or sourceTensor.clone().detach().requires_grad_(True), rather than torch.tensor(sourceTensor).\n",
      "  self.prices = torch.tensor(prices, dtype=torch.float32).to(device)\n"
     ]
    }
   ],
   "source": [
    "train_p, valid_p, test_p = 0.6, 0.2, 0.2\n",
    "\n",
    "assert train_p + valid_p + test_p == 1, \"Train, valid, and test percentages must add up to 1.\"\n",
    "\n",
    "n_train = int(len(prices) * train_p)\n",
    "n_valid = int(len(prices) * valid_p)\n",
    "n_test = len(prices) - n_train - n_valid\n",
    "\n",
    "training_data = ClipInputDataset(\n",
    "    input_ids[:n_train],\n",
    "    attention_mask[:n_train],\n",
    "    pixel_values[:n_train],\n",
    "    prices[:n_train],\n",
    "    device\n",
    ")\n",
    "validation_data = ClipInputDataset(\n",
    "    input_ids[n_train:n_train + n_valid],\n",
    "    attention_mask[n_train:n_train + n_valid],\n",
    "    pixel_values[n_train:n_train + n_valid],\n",
    "    prices[n_train:n_train + n_valid],\n",
    "    device\n",
    ")\n",
    "test_data = ClipInputDataset(\n",
    "    input_ids[n_train + n_valid:],\n",
    "    attention_mask[n_train + n_valid:],\n",
    "    pixel_values[n_train + n_valid:],\n",
    "    prices[n_train + n_valid:],\n",
    "    device\n",
    ")\n",
    "\n"
   ]
  },
  {
   "cell_type": "code",
   "execution_count": 7,
   "metadata": {},
   "outputs": [],
   "source": [
    "epochs = 10\n",
    "batch_size = 64\n",
    "learning_rate = 1e-5\n",
    "\n",
    "train_dataloader = DataLoader(training_data, batch_size=batch_size, shuffle=True)\n",
    "valid_dataloader = DataLoader(validation_data, batch_size=batch_size, shuffle=True)\n",
    "test_dataloader = DataLoader(test_data, batch_size=batch_size, shuffle=True)\n",
    "\n",
    "model = PriceModelV2().to(device)\n",
    "optimzer = torch.optim.Adam(model.parameters(), lr=learning_rate)\n",
    "loss = nn.MSELoss()"
   ]
  },
  {
   "cell_type": "code",
   "execution_count": 8,
   "metadata": {},
   "outputs": [
    {
     "name": "stdout",
     "output_type": "stream",
     "text": [
      "Epoch 1/10\n"
     ]
    },
    {
     "data": {
      "application/vnd.jupyter.widget-view+json": {
       "model_id": "3c7c34b53b7343209e87d09a4ddc5c70",
       "version_major": 2,
       "version_minor": 0
      },
      "text/plain": [
       "  0%|          | 0/9 [00:00<?, ?it/s]"
      ]
     },
     "metadata": {},
     "output_type": "display_data"
    },
    {
     "name": "stdout",
     "output_type": "stream",
     "text": [
      "Training loss: 1.0649105310440063\n",
      "Validation loss: 0.9978912472724915\n",
      "Epoch 2/10\n"
     ]
    },
    {
     "data": {
      "application/vnd.jupyter.widget-view+json": {
       "model_id": "2b20b5d5f73c4911a4285044c9a84c76",
       "version_major": 2,
       "version_minor": 0
      },
      "text/plain": [
       "  0%|          | 0/9 [00:00<?, ?it/s]"
      ]
     },
     "metadata": {},
     "output_type": "display_data"
    },
    {
     "name": "stdout",
     "output_type": "stream",
     "text": [
      "Training loss: 0.9597348173459371\n",
      "Validation loss: 0.9769204457600912\n",
      "Epoch 3/10\n"
     ]
    },
    {
     "data": {
      "application/vnd.jupyter.widget-view+json": {
       "model_id": "f8f5648940fd481dbe019fcd37b17728",
       "version_major": 2,
       "version_minor": 0
      },
      "text/plain": [
       "  0%|          | 0/9 [00:00<?, ?it/s]"
      ]
     },
     "metadata": {},
     "output_type": "display_data"
    },
    {
     "name": "stdout",
     "output_type": "stream",
     "text": [
      "Training loss: 0.8131310741106669\n",
      "Validation loss: 1.0485257506370544\n",
      "Epoch 4/10\n"
     ]
    },
    {
     "data": {
      "application/vnd.jupyter.widget-view+json": {
       "model_id": "ca56c4878bfb454ba7efdeb92cbe0abd",
       "version_major": 2,
       "version_minor": 0
      },
      "text/plain": [
       "  0%|          | 0/9 [00:00<?, ?it/s]"
      ]
     },
     "metadata": {},
     "output_type": "display_data"
    },
    {
     "name": "stdout",
     "output_type": "stream",
     "text": [
      "Training loss: 0.6800741255283356\n",
      "Validation loss: 0.9839845498402914\n",
      "Epoch 5/10\n"
     ]
    },
    {
     "data": {
      "application/vnd.jupyter.widget-view+json": {
       "model_id": "4f8178bed39f421193a4d3077ef2988d",
       "version_major": 2,
       "version_minor": 0
      },
      "text/plain": [
       "  0%|          | 0/9 [00:00<?, ?it/s]"
      ]
     },
     "metadata": {},
     "output_type": "display_data"
    },
    {
     "name": "stdout",
     "output_type": "stream",
     "text": [
      "Training loss: 0.6050053205755022\n",
      "Validation loss: 1.0671632289886475\n",
      "Epoch 6/10\n"
     ]
    },
    {
     "data": {
      "application/vnd.jupyter.widget-view+json": {
       "model_id": "a7d4f81c732f4ff1a8ca8d0d8a4d1002",
       "version_major": 2,
       "version_minor": 0
      },
      "text/plain": [
       "  0%|          | 0/9 [00:00<?, ?it/s]"
      ]
     },
     "metadata": {},
     "output_type": "display_data"
    },
    {
     "name": "stdout",
     "output_type": "stream",
     "text": [
      "Training loss: 0.5760323206583658\n",
      "Validation loss: 1.0210742950439453\n",
      "Epoch 7/10\n"
     ]
    },
    {
     "data": {
      "application/vnd.jupyter.widget-view+json": {
       "model_id": "d74a84cff3464e3ba9b63fc224c15c47",
       "version_major": 2,
       "version_minor": 0
      },
      "text/plain": [
       "  0%|          | 0/9 [00:00<?, ?it/s]"
      ]
     },
     "metadata": {},
     "output_type": "display_data"
    },
    {
     "name": "stdout",
     "output_type": "stream",
     "text": [
      "Training loss: 0.5530915690792931\n",
      "Validation loss: 0.9907141923904419\n",
      "Epoch 8/10\n"
     ]
    },
    {
     "data": {
      "application/vnd.jupyter.widget-view+json": {
       "model_id": "37a1fad695b2431b939877d2406acb4d",
       "version_major": 2,
       "version_minor": 0
      },
      "text/plain": [
       "  0%|          | 0/9 [00:00<?, ?it/s]"
      ]
     },
     "metadata": {},
     "output_type": "display_data"
    },
    {
     "name": "stdout",
     "output_type": "stream",
     "text": [
      "Training loss: 0.5404197408093346\n",
      "Validation loss: 1.0308761596679688\n",
      "Epoch 9/10\n"
     ]
    },
    {
     "data": {
      "application/vnd.jupyter.widget-view+json": {
       "model_id": "a1b1f55a4c3042b08ba666b10b626573",
       "version_major": 2,
       "version_minor": 0
      },
      "text/plain": [
       "  0%|          | 0/9 [00:00<?, ?it/s]"
      ]
     },
     "metadata": {},
     "output_type": "display_data"
    },
    {
     "name": "stdout",
     "output_type": "stream",
     "text": [
      "Training loss: 0.5497209264172448\n",
      "Validation loss: 0.8865552842617035\n",
      "Epoch 10/10\n"
     ]
    },
    {
     "data": {
      "application/vnd.jupyter.widget-view+json": {
       "model_id": "0668d9de0524434997ace59486cdf00f",
       "version_major": 2,
       "version_minor": 0
      },
      "text/plain": [
       "  0%|          | 0/9 [00:00<?, ?it/s]"
      ]
     },
     "metadata": {},
     "output_type": "display_data"
    },
    {
     "name": "stdout",
     "output_type": "stream",
     "text": [
      "Training loss: 0.5395437313450707\n",
      "Validation loss: 0.9541372855504354\n"
     ]
    },
    {
     "data": {
      "image/png": "[encoded data removed]",
      "text/plain": [
       "<Figure size 432x288 with 1 Axes>"
      ]
     },
     "metadata": {
      "needs_background": "light"
     },
     "output_type": "display_data"
    }
   ],
   "source": [
    "loss_history = []\n",
    "val_loss_history = []\n",
    "\n",
    "for epoch in range(epochs):\n",
    "    print(f\"Epoch {epoch+1}/{epochs}\")\n",
    "    pbar = tqdm(train_dataloader)\n",
    "    total_loss = 0\n",
    "    count = 0\n",
    "\n",
    "    total_val_loss = 0\n",
    "\n",
    "    model.train()\n",
    "    for x, y in pbar:\n",
    "        \n",
    "        preds = model(x)\n",
    "        output = loss(preds, y)\n",
    "\n",
    "        optimzer.zero_grad()\n",
    "        output.backward()\n",
    "        optimzer.step()\n",
    "\n",
    "        total_loss += output.item()\n",
    "        count += 1\n",
    "\n",
    "    loss_history.append(total_loss / count)\n",
    "\n",
    "    count = 0\n",
    "    with torch.no_grad():\n",
    "        model.eval()\n",
    "        for x, y in valid_dataloader:\n",
    "            preds = model(x)\n",
    "            output = loss(preds, y)\n",
    "\n",
    "            total_val_loss += output.item()\n",
    "            count += 1\n",
    "        \n",
    "        val_loss_history.append(total_val_loss / count)\n",
    "\n",
    "    print(f\"Training loss: {loss_history[-1]}\")\n",
    "    print(f\"Validation loss: {val_loss_history[-1]}\")\n",
    "\n",
    "# plot loss\n",
    "plt.plot(loss_history)\n",
    "plt.plot(val_loss_history)\n",
    "# add title and labels\n",
    "plt.title(\"Loss over epochs\")\n",
    "plt.xlabel(\"Epoch\")\n",
    "plt.ylabel(\"Loss\")\n",
    "# add a legend\n",
    "plt.legend([\"Training Loss\", \"Validation Loss\"])\n",
    "# save figure\n",
    "plt.savefig(os.path.join(dataset_dir, \"loss.png\"))\n",
    "plt.show()\n"
   ]
  },
  {
   "cell_type": "code",
   "execution_count": 9,
   "metadata": {},
   "outputs": [],
   "source": [
    "def scatter_predict_vs_actual_data(model, dataloader):\n",
    "    # predict prices on validation set\n",
    "    all_preds = []\n",
    "    all_prices = []\n",
    "    with torch.no_grad():\n",
    "        for x, y in dataloader:\n",
    "            model.eval()\n",
    "            preds = model(x) # (batch_size, 1)\n",
    "            all_preds.append(preds.cpu().numpy())\n",
    "            all_prices.append(y.cpu().numpy())\n",
    "\n",
    "    # flatten lists\n",
    "    all_preds = np.concatenate(all_preds)\n",
    "    all_prices = np.concatenate(all_prices)\n",
    "\n",
    "    # un normalize prices\n",
    "    all_prices = (all_prices * std_price) + mean_price\n",
    "    all_preds = (all_preds * std_price) + mean_price\n",
    "\n",
    "    return all_prices, all_preds\n",
    "\n",
    "\n",
    "\n",
    "train_actual, train_preds = scatter_predict_vs_actual_data(model, train_dataloader)\n",
    "valid_actual, valid_preds = scatter_predict_vs_actual_data(model, valid_dataloader)"
   ]
  },
  {
   "cell_type": "code",
   "execution_count": 10,
   "metadata": {},
   "outputs": [
    {
     "data": {
      "image/png": "[encoded data removed]",
      "text/plain": [
       "<Figure size 432x288 with 1 Axes>"
      ]
     },
     "metadata": {
      "needs_background": "light"
     },
     "output_type": "display_data"
    },
    {
     "data": {
      "image/png": "[encoded data removed]",
      "text/plain": [
       "<Figure size 432x288 with 1 Axes>"
      ]
     },
     "metadata": {
      "needs_background": "light"
     },
     "output_type": "display_data"
    }
   ],
   "source": [
    "def scatter_predict_vs_actual_plot(all_prices, all_preds, name):\n",
    "    # Scatter plot of predicted prices vs actual prices\n",
    "    plt.scatter(all_prices, all_preds)\n",
    "    plt.xlabel(\"Actual Price\")\n",
    "    plt.ylabel(\"Predicted Price\")\n",
    "    plt.title(\"Predicted vs Actual Price\")\n",
    "    # make axis the same scale\n",
    "    global_min = min(all_prices.min(), all_preds.min())\n",
    "    global_max = max(all_prices.max(), all_preds.max())\n",
    "    # global_max = 1000\n",
    "    plt.xlim(global_min, global_max)\n",
    "    plt.ylim(global_min, global_max)\n",
    "    # save figure without transparent background\n",
    "    plt.savefig(os.path.join(dataset_dir, f\"{name}_scatter_predict_vs_actual.png\"), transparent=False)\n",
    "    plt.show()\n",
    "    \n",
    "scatter_predict_vs_actual_plot(train_actual, train_preds, \"train\")\n",
    "scatter_predict_vs_actual_plot(valid_actual, valid_preds, \"valid\")"
   ]
  }
 ],
 "metadata": {
  "interpreter": {
   "hash": "0987580c3fa7eeaf5da25a446544d4cf8032cca504661e22c89831bfd1beddb0"
  },
  "kernelspec": {
   "display_name": "Python 3.8.10 ('env': venv)",
   "language": "python",
   "name": "python3"
  },
  "language_info": {
   "codemirror_mode": {
    "name": "ipython",
    "version": 3
   },
   "file_extension": ".py",
   "mimetype": "text/x-python",
   "name": "python",
   "nbconvert_exporter": "python",
   "pygments_lexer": "ipython3",
   "version": "3.10.4"
  },
  "orig_nbformat": 4
 },
 "nbformat": 4,
 "nbformat_minor": 2
}
